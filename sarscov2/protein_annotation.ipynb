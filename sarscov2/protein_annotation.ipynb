{
 "cells": [
  {
   "cell_type": "markdown",
   "metadata": {},
   "source": [
    "# Protein annotation SARS-CoV-2\n",
    "\n",
    "This notebook uses Python tools to find all amino acid mutations in SARS-CoV-2 protein sequences.\n",
    "\n",
    "## Dependencies:\n",
    "\n",
    "You need a package I made called pathogenie to run this code.\n",
    "\n",
    "Install with `pip install -e git+https://github.com/dmnfarrell/pathogenie.git#egg=pathogenie`\n",
    "\n",
    "## Links:\n",
    "\n",
    "* https://github.com/dmnfarrell/pathogenie\n",
    "* https://www.gisaid.org/\n",
    "* http://virological.org/t/selection-analysis-of-gisaid-sars-cov-2-data/448/2\n",
    "\n",
    "This notebook is available at https://github.com/dmnfarrell/teaching/blob/master/sarscov2/protein_annotation.ipynb"
   ]
  },
  {
   "cell_type": "code",
   "execution_count": 1,
   "metadata": {},
   "outputs": [],
   "source": [
    "import os, math, time, pickle, subprocess\n",
    "from importlib import reload\n",
    "from collections import OrderedDict, defaultdict\n",
    "import numpy as np\n",
    "import pandas as pd\n",
    "pd.set_option('display.width', 150)\n",
    "from Bio import SeqIO,AlignIO\n",
    "from Bio.Seq import Seq\n",
    "from Bio.SeqRecord import SeqRecord\n",
    "import pylab as plt\n",
    "import pathogenie"
   ]
  },
  {
   "cell_type": "code",
   "execution_count": 9,
   "metadata": {},
   "outputs": [
    {
     "data": {
      "text/html": [
       "<div>\n",
       "<style scoped>\n",
       "    .dataframe tbody tr th:only-of-type {\n",
       "        vertical-align: middle;\n",
       "    }\n",
       "\n",
       "    .dataframe tbody tr th {\n",
       "        vertical-align: top;\n",
       "    }\n",
       "\n",
       "    .dataframe thead th {\n",
       "        text-align: right;\n",
       "    }\n",
       "</style>\n",
       "<table border=\"1\" class=\"dataframe\">\n",
       "  <thead>\n",
       "    <tr style=\"text-align: right;\">\n",
       "      <th></th>\n",
       "      <th>gene</th>\n",
       "      <th>locus_tag</th>\n",
       "      <th>length</th>\n",
       "      <th>start</th>\n",
       "    </tr>\n",
       "  </thead>\n",
       "  <tbody>\n",
       "    <tr>\n",
       "      <th>3</th>\n",
       "      <td>ORF1ab</td>\n",
       "      <td>GU280_gp01</td>\n",
       "      <td>7096</td>\n",
       "      <td>265</td>\n",
       "    </tr>\n",
       "    <tr>\n",
       "      <th>34</th>\n",
       "      <td>S</td>\n",
       "      <td>GU280_gp02</td>\n",
       "      <td>1273</td>\n",
       "      <td>21562</td>\n",
       "    </tr>\n",
       "    <tr>\n",
       "      <th>36</th>\n",
       "      <td>ORF3a</td>\n",
       "      <td>GU280_gp03</td>\n",
       "      <td>275</td>\n",
       "      <td>25392</td>\n",
       "    </tr>\n",
       "    <tr>\n",
       "      <th>38</th>\n",
       "      <td>E</td>\n",
       "      <td>GU280_gp04</td>\n",
       "      <td>75</td>\n",
       "      <td>26244</td>\n",
       "    </tr>\n",
       "    <tr>\n",
       "      <th>40</th>\n",
       "      <td>M</td>\n",
       "      <td>GU280_gp05</td>\n",
       "      <td>222</td>\n",
       "      <td>26522</td>\n",
       "    </tr>\n",
       "    <tr>\n",
       "      <th>42</th>\n",
       "      <td>ORF6</td>\n",
       "      <td>GU280_gp06</td>\n",
       "      <td>61</td>\n",
       "      <td>27201</td>\n",
       "    </tr>\n",
       "    <tr>\n",
       "      <th>44</th>\n",
       "      <td>ORF7a</td>\n",
       "      <td>GU280_gp07</td>\n",
       "      <td>121</td>\n",
       "      <td>27393</td>\n",
       "    </tr>\n",
       "    <tr>\n",
       "      <th>46</th>\n",
       "      <td>ORF7b</td>\n",
       "      <td>GU280_gp08</td>\n",
       "      <td>43</td>\n",
       "      <td>27755</td>\n",
       "    </tr>\n",
       "    <tr>\n",
       "      <th>48</th>\n",
       "      <td>ORF8</td>\n",
       "      <td>GU280_gp09</td>\n",
       "      <td>121</td>\n",
       "      <td>27893</td>\n",
       "    </tr>\n",
       "    <tr>\n",
       "      <th>50</th>\n",
       "      <td>N</td>\n",
       "      <td>GU280_gp10</td>\n",
       "      <td>419</td>\n",
       "      <td>28273</td>\n",
       "    </tr>\n",
       "    <tr>\n",
       "      <th>52</th>\n",
       "      <td>ORF10</td>\n",
       "      <td>GU280_gp11</td>\n",
       "      <td>38</td>\n",
       "      <td>29557</td>\n",
       "    </tr>\n",
       "  </tbody>\n",
       "</table>\n",
       "</div>"
      ],
      "text/plain": [
       "      gene   locus_tag  length  start\n",
       "3   ORF1ab  GU280_gp01    7096    265\n",
       "34       S  GU280_gp02    1273  21562\n",
       "36   ORF3a  GU280_gp03     275  25392\n",
       "38       E  GU280_gp04      75  26244\n",
       "40       M  GU280_gp05     222  26522\n",
       "42    ORF6  GU280_gp06      61  27201\n",
       "44   ORF7a  GU280_gp07     121  27393\n",
       "46   ORF7b  GU280_gp08      43  27755\n",
       "48    ORF8  GU280_gp09     121  27893\n",
       "50       N  GU280_gp10     419  28273\n",
       "52   ORF10  GU280_gp11      38  29557"
      ]
     },
     "execution_count": 9,
     "metadata": {},
     "output_type": "execute_result"
    }
   ],
   "source": [
    "sc2ref = pathogenie.genbank_to_dataframe('NC_045512.2.gb',cds=True).drop_duplicates('locus_tag')\n",
    "sc2ref[['gene','locus_tag','length','start']]"
   ]
  },
  {
   "cell_type": "markdown",
   "metadata": {},
   "source": [
    "## annotate reference to check match with genbank one"
   ]
  },
  {
   "cell_type": "code",
   "execution_count": 10,
   "metadata": {},
   "outputs": [
    {
     "name": "stdout",
     "output_type": "stream",
     "text": [
      "/home/damien/.config/pathogenie/prokka/IS.fa\n",
      "blasting 10 ORFs to IS\n",
      "blastp -out tempseq_blast.txt -outfmt \"6 qseqid sseqid qseq sseq pident qcovs length mismatch gapopen qstart qend sstart send evalue bitscore stitle\" -query tempseq.fa -db /home/damien/.config/pathogenie/prokka/IS.fa -evalue 1e-10 -max_target_seqs 1 -num_threads 4\n",
      "/home/damien/.config/pathogenie/prokka/amr.fa\n",
      "blasting 10 ORFs to amr\n",
      "blastp -out tempseq_blast.txt -outfmt \"6 qseqid sseqid qseq sseq pident qcovs length mismatch gapopen qstart qend sstart send evalue bitscore stitle\" -query tempseq.fa -db /home/damien/.config/pathogenie/prokka/amr.fa -evalue 1e-100 -max_target_seqs 1 -num_threads 4\n",
      "/home/damien/.config/pathogenie/prokka/sprot_viruses.fa\n",
      "blasting 10 ORFs to sprot_viruses\n",
      "blastp -out tempseq_blast.txt -outfmt \"6 qseqid sseqid qseq sseq pident qcovs length mismatch gapopen qstart qend sstart send evalue bitscore stitle\" -query tempseq.fa -db /home/damien/.config/pathogenie/prokka/sprot_viruses.fa -evalue 0.0001 -max_target_seqs 1 -num_threads 4\n",
      "3 sequences unassigned\n",
      "running aragorn\n"
     ]
    },
    {
     "data": {
      "text/html": [
       "<div>\n",
       "<style scoped>\n",
       "    .dataframe tbody tr th:only-of-type {\n",
       "        vertical-align: middle;\n",
       "    }\n",
       "\n",
       "    .dataframe tbody tr th {\n",
       "        vertical-align: top;\n",
       "    }\n",
       "\n",
       "    .dataframe thead th {\n",
       "        text-align: right;\n",
       "    }\n",
       "</style>\n",
       "<table border=\"1\" class=\"dataframe\">\n",
       "  <thead>\n",
       "    <tr style=\"text-align: right;\">\n",
       "      <th></th>\n",
       "      <th>gene</th>\n",
       "      <th>product</th>\n",
       "      <th>length</th>\n",
       "      <th>start</th>\n",
       "    </tr>\n",
       "  </thead>\n",
       "  <tbody>\n",
       "    <tr>\n",
       "      <th>0</th>\n",
       "      <td>1a</td>\n",
       "      <td>Replicase polyprotein 1a</td>\n",
       "      <td>4388</td>\n",
       "      <td>316</td>\n",
       "    </tr>\n",
       "    <tr>\n",
       "      <th>1</th>\n",
       "      <td>rep</td>\n",
       "      <td>Replicase polyprotein 1ab</td>\n",
       "      <td>2595</td>\n",
       "      <td>13767</td>\n",
       "    </tr>\n",
       "    <tr>\n",
       "      <th>2</th>\n",
       "      <td>S</td>\n",
       "      <td>Spike glycoprotein</td>\n",
       "      <td>1273</td>\n",
       "      <td>21562</td>\n",
       "    </tr>\n",
       "    <tr>\n",
       "      <th>3</th>\n",
       "      <td>3a</td>\n",
       "      <td>Protein 3a</td>\n",
       "      <td>275</td>\n",
       "      <td>25392</td>\n",
       "    </tr>\n",
       "    <tr>\n",
       "      <th>4</th>\n",
       "      <td>M</td>\n",
       "      <td>Membrane protein</td>\n",
       "      <td>222</td>\n",
       "      <td>26522</td>\n",
       "    </tr>\n",
       "    <tr>\n",
       "      <th>5</th>\n",
       "      <td>7a</td>\n",
       "      <td>Protein 7a</td>\n",
       "      <td>121</td>\n",
       "      <td>27393</td>\n",
       "    </tr>\n",
       "    <tr>\n",
       "      <th>6</th>\n",
       "      <td>N</td>\n",
       "      <td>Nucleoprotein</td>\n",
       "      <td>419</td>\n",
       "      <td>28273</td>\n",
       "    </tr>\n",
       "    <tr>\n",
       "      <th>7</th>\n",
       "      <td>NaN</td>\n",
       "      <td>hypothetical protein</td>\n",
       "      <td>43</td>\n",
       "      <td>27755</td>\n",
       "    </tr>\n",
       "    <tr>\n",
       "      <th>8</th>\n",
       "      <td>NaN</td>\n",
       "      <td>hypothetical protein</td>\n",
       "      <td>121</td>\n",
       "      <td>27893</td>\n",
       "    </tr>\n",
       "    <tr>\n",
       "      <th>9</th>\n",
       "      <td>NaN</td>\n",
       "      <td>hypothetical protein</td>\n",
       "      <td>51</td>\n",
       "      <td>29684</td>\n",
       "    </tr>\n",
       "  </tbody>\n",
       "</table>\n",
       "</div>"
      ],
      "text/plain": [
       "  gene                    product  length  start\n",
       "0   1a   Replicase polyprotein 1a    4388    316\n",
       "1  rep  Replicase polyprotein 1ab    2595  13767\n",
       "2    S         Spike glycoprotein    1273  21562\n",
       "3   3a                 Protein 3a     275  25392\n",
       "4    M           Membrane protein     222  26522\n",
       "5   7a                 Protein 7a     121  27393\n",
       "6    N              Nucleoprotein     419  28273\n",
       "7  NaN       hypothetical protein      43  27755\n",
       "8  NaN       hypothetical protein     121  27893\n",
       "9  NaN       hypothetical protein      51  29684"
      ]
     },
     "execution_count": 10,
     "metadata": {},
     "output_type": "execute_result"
    }
   ],
   "source": [
    "sc2,sc2recs = pathogenie.run_annotation('NC_045512.fa', kingdom='viruses')\n",
    "sc2[['gene','product','length','start']]"
   ]
  },
  {
   "cell_type": "code",
   "execution_count": 11,
   "metadata": {},
   "outputs": [],
   "source": [
    "spikeref = sc2[sc2.gene=='S'].iloc[0]\n",
    "spikeref.translation\n",
    "refrec = SeqRecord(Seq(spikeref.translation),id='ref')"
   ]
  },
  {
   "cell_type": "markdown",
   "metadata": {},
   "source": [
    "## Load unique GIS sequences "
   ]
  },
  {
   "cell_type": "code",
   "execution_count": 13,
   "metadata": {},
   "outputs": [
    {
     "name": "stdout",
     "output_type": "stream",
     "text": [
      "6408\n"
     ]
    }
   ],
   "source": [
    "#gistable = pd.read_excel('gisaid_cov2020_acknowledgement_table.xls')\n",
    "\n",
    "def load_deduplicated_sequences(filename):\n",
    "    \"\"\"Load a fasta file of sequences and ignore duplicates\"\"\"\n",
    "    \n",
    "    newrecs = {}\n",
    "    unique_seqs=defaultdict(list)\n",
    "    with open(filename, 'r') as in_handle:\n",
    "        for rec in SeqIO.parse(in_handle, \"fasta\"):        \n",
    "            if rec.seq in unique_seqs:\n",
    "                continue\n",
    "            if not rec.id in newrecs:\n",
    "                try:\n",
    "                    id = rec.id.split('|')[1]           \n",
    "                    newrecs[id] = rec                  \n",
    "                    unique_seqs[str(rec.seq)] = id\n",
    "                except:\n",
    "                    pass\n",
    "    return newrecs   \n",
    "\n",
    "gisrecs = load_deduplicated_sequences('gisaid_cov2020_sequences.fasta')\n",
    "print (len(gisrecs))"
   ]
  },
  {
   "cell_type": "code",
   "execution_count": 15,
   "metadata": {},
   "outputs": [],
   "source": [
    "k = list(gisrecs.keys())[:2000]\n",
    "annot = pathogenie.annotate_files(gisrecs, keys=k, outdir='gisaid_annot')"
   ]
  },
  {
   "cell_type": "markdown",
   "metadata": {},
   "source": [
    "## Extract protein of interest across all genomes"
   ]
  },
  {
   "cell_type": "code",
   "execution_count": 16,
   "metadata": {},
   "outputs": [
    {
     "name": "stdout",
     "output_type": "stream",
     "text": [
      "1998\n"
     ]
    }
   ],
   "source": [
    "spike_seqs = pathogenie.get_similar_sequences('Spike glycoprotein', annot)\n",
    "print (len(spike_seqs))"
   ]
  },
  {
   "cell_type": "markdown",
   "metadata": {},
   "source": [
    "## Collapse to unique protein sequences"
   ]
  },
  {
   "cell_type": "code",
   "execution_count": 18,
   "metadata": {},
   "outputs": [
    {
     "name": "stdout",
     "output_type": "stream",
     "text": [
      "117\n"
     ]
    }
   ],
   "source": [
    "unique_seqs, counts = pathogenie.collapse_sequences(spike_seqs, refrec)\n",
    "print (len(unique_seqs))"
   ]
  },
  {
   "cell_type": "markdown",
   "metadata": {},
   "source": [
    "## Find mutations"
   ]
  },
  {
   "cell_type": "code",
   "execution_count": 20,
   "metadata": {},
   "outputs": [
    {
     "data": {
      "text/plain": [
       "dict_values([['H49Y'], ['N354D', 'D364Y'], ['V367F'], ['P1143L'], ['H655Y'], ['D614G'], ['R408I'], ['A930V'], ['C1254F'], ['S940F'], ['A435S', 'D614G'], ['V483A'], ['M153T', 'V1040F'], ['D614G', 'I1132V'], ['D614G', 'S939F'], ['D614G', 'P1162A'], ['Q239K', 'D614G'], ['S254F'], ['D614G', 'A706V'], ['T547I'], ['G476S'], ['S71F'], ['D614G'], ['D614G', 'P1263L'], ['D614G', 'D839Y'], ['T76I'], ['-267Y', 'D615G'], ['Q321L', 'D614G'], ['T791I'], ['D614G', 'R765L'], ['D614G', 'A831V'], ['D614G', 'M1229I'], ['Y145H', 'D614G'], ['I197V'], ['D614G', 'A845V'], ['I934M'], ['F157S'], ['T22I'], ['I472V', 'D614G'], ['D614G', 'G1219C'], ['D614G', 'N679Y', 'S680P'], ['D614G', 'Q675H'], ['D614G', 'A879S'], ['S94F', 'D614G', 'Q675H'], ['D215H'], ['D936Y'], ['R21I', 'D614G'], ['T29I'], ['D1259H'], ['D614G', 'V1176F'], ['D614G', 'P631S'], ['Q675R'], ['P491R'], ['M731I'], ['D1163G'], ['D1260N'], ['D808N'], ['S221L', 'D614G'], ['D467V', 'I468F', 'D614G'], ['I468T'], ['S50L', 'D614G'], ['W258L'], ['A27V'], ['A892S', 'E1207D'], ['D614G', 'A846V'], ['S438F', 'D614G'], ['D614G', 'D1260N'], ['S1252F'], ['D614G', 'Q677H', 'V1230L'], ['H146Y', 'D614G'], ['S255F', 'D614G'], ['A623V'], ['L5F', 'D614G'], ['S494P', 'D614G'], ['D614G', 'D936Y'], ['D1165G'], ['V860F'], ['W64L'], ['I714L'], ['Q677H'], ['A575S', 'D614G', 'A623S'], ['D614G', 'D936Y', 'A1020V'], ['D614G', 'T1066N'], ['T240I'], ['E309Q', 'D614G'], ['D614G', 'N703S'], ['A522V'], ['C1250F'], ['C1250Y'], ['D614G', 'V615F'], ['D614G', 'V622I'], ['V70F'], ['S50L'], ['A570V'], ['V772I'], ['P1162L'], ['D614G', 'A647S'], ['V483I'], ['D614G', 'V976F', 'E1150D'], ['D614G', 'A623V'], ['D614G', 'H1058L', 'C1236F'], ['H146Y'], ['V1264L'], ['L216F', 'D614G'], ['F338L'], ['N439K', 'D614G'], ['G142A', 'D614G'], ['G446V', 'D614G'], ['S50L', 'D614G', 'G1124V'], ['D614G', 'G1124V'], ['G1124V'], ['D614G', 'Q787R'], ['T29I', 'D614G', 'S704L', 'G1124V'], ['D614G', 'G769V'], ['M177I', 'D614G'], ['A522S']])"
      ]
     },
     "execution_count": 20,
     "metadata": {},
     "output_type": "execute_result"
    }
   ],
   "source": [
    "def get_mutations(recs, ref):\n",
    "    mutations = {}\n",
    "    positions = []\n",
    "    for rec in recs:\n",
    "        aln = pathogenie.clustal_alignment(seqs=[ref, rec])\n",
    "        #print (aln)\n",
    "        x = []\n",
    "        for pos in range(len(aln[0])):\n",
    "            refaa = aln[0,pos]        \n",
    "            aa = aln[1,pos]\n",
    "            if aa != refaa and aa!='-':\n",
    "                #print (refaa, aln[:,pos], aa)              \n",
    "                mut = refaa+str(pos+1)+aa\n",
    "                x.append(mut)\n",
    "        if len(x)>0:\n",
    "            mutations[rec.seq] = x\n",
    "    return mutations\n",
    "\n",
    "mutations = get_mutations(unique_seqs, refrec)\n",
    "mutations.values()"
   ]
  },
  {
   "cell_type": "code",
   "execution_count": 21,
   "metadata": {},
   "outputs": [],
   "source": [
    "muts = {seq:'+'.join(mutations[seq]) for seq in mutations if counts[seq]>1}\n",
    "freqs = [(muts[seq], counts[seq]) for seq in muts]\n",
    "freqs\n",
    "fdf = pd.DataFrame(freqs,columns=['mutation','count']).sort_values('count',ascending=False)"
   ]
  },
  {
   "cell_type": "markdown",
   "metadata": {},
   "source": [
    "## make a phylogenetic tree from protein sequences"
   ]
  },
  {
   "cell_type": "code",
   "execution_count": 358,
   "metadata": {},
   "outputs": [],
   "source": [
    "def make_tree(infile, kind='nucl'):\n",
    "    \n",
    "    #aln = tools.clustal_alignment(seqs=seqs)\n",
    "    cmd = 'mafft --retree 1 %s > aligned.fasta' %infile\n",
    "    print (cmd)\n",
    "    subprocess.check_output(cmd, shell=True)\n",
    "    #AlignIO.write(aln, 'aligned.fasta', 'fasta')\n",
    "    AlignIO.convert(\"aligned.fasta\", \"fasta\", \"aligned.phy\", \"phylip-relaxed\")\n",
    "    if kind=='nucl':\n",
    "        cmd = 'mpirun -np 4 phyml-mpi -i aligned.phy -b 12 -m HKY85 -a e'\n",
    "    else:\n",
    "        cmd = 'mpirun -np 4 phyml-mpi -i aligned.phy -d aa -b 12 -m WAG -a e'\n",
    "    tmp = subprocess.check_output(cmd, shell=True)\n",
    "    return "
   ]
  },
  {
   "cell_type": "code",
   "execution_count": null,
   "metadata": {},
   "outputs": [],
   "source": [
    "#write dict with mutations to a fasta file\n",
    "temp={}\n",
    "for s in muts:\n",
    "    rec=SeqRecord(s,id=muts[s])\n",
    "    temp[muts[s]] = rec\n",
    "SeqIO.write(temp.values(),'temp_mutants.faa','fasta')\n",
    "make_tree('temp_mutants.faa',kind='prot')"
   ]
  },
  {
   "cell_type": "code",
   "execution_count": null,
   "metadata": {},
   "outputs": [],
   "source": [
    "from Bio import Phylo\n",
    "tree = Phylo.read(\"aligned.phy_phyml_tree.txt\", \"newick\")\n",
    "Phylo.draw_ascii(tree)"
   ]
  },
  {
   "cell_type": "code",
   "execution_count": 398,
   "metadata": {},
   "outputs": [
    {
     "data": {
      "application/vnd.jupyter.widget-view+json": {
       "model_id": "37b429d928e640d9baa81ed0e495925e",
       "version_major": 2,
       "version_minor": 0
      },
      "text/plain": [
       "NGLWidget()"
      ]
     },
     "metadata": {},
     "output_type": "display_data"
    }
   ],
   "source": [
    "import nglview\n",
    "w = nglview.show_file(\"model_spike.pdb\")\n",
    "w.add_representation('licorice', selection=positions, color='green')\n",
    "w"
   ]
  },
  {
   "cell_type": "markdown",
   "metadata": {},
   "source": [
    "## Run all proteins using the above methods"
   ]
  },
  {
   "cell_type": "code",
   "execution_count": 24,
   "metadata": {},
   "outputs": [
    {
     "name": "stdout",
     "output_type": "stream",
     "text": [
      "                           product gene  sequence\n",
      "0  Envelope small membrane protein    E        41\n",
      "1                 Membrane protein    M      1999\n",
      "2                    Nucleoprotein    N      1997\n",
      "3                       Protein 3a   3a      1991\n",
      "4                       Protein 7a   7a      1996\n",
      "5                       Protein 9b   9b        42\n",
      "6         Replicase polyprotein 1a   1a      2003\n",
      "7        Replicase polyprotein 1ab  rep      2000\n",
      "8               Spike glycoprotein    S      1999\n"
     ]
    }
   ],
   "source": [
    "print (annot.groupby(['product','gene']).agg({'sequence':np.size}).reset_index())"
   ]
  },
  {
   "cell_type": "code",
   "execution_count": null,
   "metadata": {},
   "outputs": [],
   "source": [
    "#k = list(gisrecs.keys())[:500]\n",
    "#annot = app.annotate_files(gisrecs, outdir='gisaid_annot', kingdom='viruses')\n",
    "\n",
    "names = ['Protein 7a', 'Protein 3a', 'Spike glycoprotein','Membrane protein',\n",
    "         'Nucleoprotein','Replicase polyprotein 1a','Replicase polyprotein 1ab']\n",
    "res=[]\n",
    "mutant_seqs = {}\n",
    "for protname in names:\n",
    "    refprot = sc2[sc2['product']==protname].iloc[0]\n",
    "    refrec = SeqRecord(Seq(refprot.translation),id='ref')\n",
    "    print (protname)\n",
    "    annot_seqs = pathogenie.get_similar_sequences(protname, annot)\n",
    "    unique_seqs, counts = pathogenie.collapse_sequences(annot_seqs, refrec)\n",
    "    print ('%s unique sequences' %len(unique_seqs))\n",
    "    mutations = get_mutations(unique_seqs, refrec)\n",
    "    #convert mutations to string and count the frequency\n",
    "    muts = {seq:'+'.join(mutations[seq]) for seq in mutations}\n",
    "    #save the sequences for later use\n",
    "    mutant_seqs[protname] = muts\n",
    "    freqs = [(muts[seq], counts[seq]) for seq in muts]    \n",
    "    #convert freq table to dataframe\n",
    "    fdf = pd.DataFrame(freqs,columns=['mutation','count']).sort_values('count',ascending=False)\n",
    "    fdf['protein'] = protname\n",
    "    print (fdf[:10])\n",
    "    res.append(fdf)\n",
    "\n",
    "res = pd.concat(res).sort_values('count',ascending=False)\n",
    "res.to_csv('sarscov2_mutations.csv',index=False)"
   ]
  },
  {
   "cell_type": "code",
   "execution_count": null,
   "metadata": {},
   "outputs": [],
   "source": [
    "#fdf = pd.DataFrame(freqs,columns=['mutation','count']).sort_values('count',ascending=False)\n",
    "res[:50].plot(x='mutation',kind='bar',width=.9,figsize=(10,4))\n",
    "plt.tight_layout()\n",
    "plt.savefig('sarscov2_mut_freq.png',dpi=100)\n",
    "#res[:20]"
   ]
  },
  {
   "cell_type": "code",
   "execution_count": null,
   "metadata": {},
   "outputs": [],
   "source": []
  }
 ],
 "metadata": {
  "kernelspec": {
   "display_name": "Python 3",
   "language": "python",
   "name": "python3"
  },
  "language_info": {
   "codemirror_mode": {
    "name": "ipython",
    "version": 3
   },
   "file_extension": ".py",
   "mimetype": "text/x-python",
   "name": "python",
   "nbconvert_exporter": "python",
   "pygments_lexer": "ipython3",
   "version": "3.8.2"
  }
 },
 "nbformat": 4,
 "nbformat_minor": 4
}
