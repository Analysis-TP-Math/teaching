{
 "cells": [
  {
   "cell_type": "markdown",
   "metadata": {},
   "source": [
    "# Create an MHC-Class I binding predictor in Python\n"
   ]
  },
  {
   "cell_type": "markdown",
   "metadata": {},
   "source": [
    "## Background\n",
    "\n",
    "Peptide binding to MHC molecules is the key selection step in the Antigen-presentation pathway. This is essential for T cell immune responses. The 'epitope' is the peptide-MHC combination shown in the image at right. Key residues in the MHC contact the peptide and these differ between alleles. The prediction of peptide binding to MHC molecules has been much studied. The problem is simpler for class-I molecules since the binding peptide length is less variable (usually 8-11 but commonly 9). Typically binding predictors are based on training models with experimental binding affinity measurements with known peptide sequences. This data is available from the IEDB for many human alleles. New peptides can then be predicted based on their position specific similarity to the training data. \n",
    "\n",
    "This requires encoding the peptide amino acid sequence numerically in a manner that captures the properties important for binding. Many possible encodings have been suggested. The simplest is a so-called 'one-hot encoding' of the amino acids producing a 20-column vector for each position that only contains a 1 where the letter corresponds to the :\n",
    "\n",
    "### Peptide encoding\n",
    "\n",
    "Several encoding techniques have been proposed for representing sequence of amino acids in multidimensional metric spaces. In particular in this work we are interested in a simple encoding that is suited to be coupled with a machine learning algorithm. We will use pandas dataframes to construct the encoding, though probably not the most optimal for speed, it is convenient. First we import the required packages."
   ]
  },
  {
   "cell_type": "code",
   "execution_count": 1,
   "metadata": {},
   "outputs": [
    {
     "name": "stderr",
     "output_type": "stream",
     "text": [
      "/usr/local/lib/python3.7/dist-packages/statsmodels/tools/_testing.py:19: FutureWarning: pandas.util.testing is deprecated. Use the functions in the public API at pandas.testing instead.\n",
      "  import pandas.util.testing as tm\n"
     ]
    }
   ],
   "source": [
    "import os, sys, math\n",
    "import numpy as np\n",
    "import pandas as pd\n",
    "%matplotlib inline\n",
    "import matplotlib as mpl\n",
    "import matplotlib.pyplot as plt\n",
    "import seaborn as sns\n",
    "sns.set_context(\"notebook\", font_scale=1.4)\n",
    "import epitopepredict as ep\n",
    "#from epitopepredict import sequtils, base, peptutils\n",
    "from IPython.display import display, HTML, Image"
   ]
  },
  {
   "cell_type": "markdown",
   "metadata": {},
   "source": [
    "## Encode peptides\n",
    "\n",
    "To encode a peptide a few schemes are illustrated here. None of these methods take into account the interdependence of the amino acids in terms of their relative positions.\n",
    "\n",
    "### One hot encoding\n",
    "The first and simplest is a so-called 'one-hot encoding' of the amino acids producing a 20-column vector for each position that only contains a 1 where the letter corresponds to that amino acid.\n",
    "\n",
    "The code below uses a pandas dataframe to construct the new features. The flatten command at the end re-arranges the 2-D matrix into a 1-D format so it can be used with the regression models. This applies to the other encoding methods also."
   ]
  },
  {
   "cell_type": "code",
   "execution_count": 12,
   "metadata": {},
   "outputs": [],
   "source": [
    "codes = ['A', 'C', 'D', 'E', 'F', 'G', 'H', 'I', 'K', 'L',\n",
    "         'M', 'N', 'P', 'Q', 'R', 'S', 'T', 'V', 'W', 'Y']\n",
    "\n",
    "def show_matrix(m):\n",
    "    #display a matrix\n",
    "    cm = sns.light_palette(\"seagreen\", as_cmap=True)\n",
    "    display(m.style.background_gradient(cmap=cm))\n",
    "\n",
    "def one_hot_encode(seq):\n",
    "    o = list(set(codes) - set(seq))\n",
    "    s = pd.DataFrame(list(seq))    \n",
    "    x = pd.DataFrame(np.zeros((len(seq),len(o)),dtype=int),columns=o)    \n",
    "    a = s[0].str.get_dummies(sep=',')\n",
    "    a = a.join(x)\n",
    "    a = a.sort_index(axis=1)\n",
    "    #a = a.set_index([a.index,list(seq)])\n",
    "    #show_matrix(a)\n",
    "    e = a.values.flatten() \n",
    "    return e\n",
    "\n",
    "pep='ALDFEQEMT'\n",
    "e=one_hot_encode(pep)"
   ]
  },
  {
   "cell_type": "markdown",
   "metadata": {},
   "source": [
    "## NLF encoding \n",
    "\n",
    "This method of encoding is detailed by Nanni and Lumini in their paper. It takes many physicochemical properties and transforms them using a Fisher Transform (similar to a PCA) creating a smaller set of features that can describe the amino acid just as well. There are 19 transformed features. This is available on the github link below if you want to try it. The result is shown below for our sample peptide ALDFEQEMT."
   ]
  },
  {
   "cell_type": "code",
   "execution_count": 13,
   "metadata": {},
   "outputs": [],
   "source": [
    "#read the matrix a csv file on github\n",
    "nlf = pd.read_csv('https://raw.githubusercontent.com/dmnfarrell/epitopepredict/master/epitopepredict/mhcdata/NLF.csv',index_col=0)\n",
    "\n",
    "def nlf_encode(seq):    \n",
    "    x = pd.DataFrame([nlf[i] for i in seq]).reset_index(drop=True)  \n",
    "    #show_matrix(x)\n",
    "    e = x.values.flatten\n",
    "    return e\n",
    "\n",
    "e=nlf_encode(pep)"
   ]
  },
  {
   "cell_type": "markdown",
   "metadata": {},
   "source": [
    "## Blosum encoding\n",
    "\n",
    "BLOSUM62 is a substitution matrix that specifies the similarity of one amino acid to another by means of a score. This score reflects the frequency of substiutions found from studying protein sequence conservation in large databases of related proteins. The number 62 refers to the percentage identity at which sequences are clustered in the analysis. Encoding a peptide this way means we provide the column from the blosum matrix corresponding to the amino acid at each position of the sequence. This produces 21x9 matrix. see https://www.sciencedirect.com/topics/biochemistry-genetics-and-molecular-biology/blosum\n",
    "\n",
    "The code to produce this array is shown below."
   ]
  },
  {
   "cell_type": "code",
   "execution_count": 14,
   "metadata": {},
   "outputs": [],
   "source": [
    "blosum = ep.blosum62\n",
    "\n",
    "def blosum_encode(seq):\n",
    "    #encode a peptide into blosum features\n",
    "    s=list(seq) \n",
    "    x = pd.DataFrame([blosum[i] for i in seq]).reset_index(drop=True)\n",
    "    #x = x.set_index([x.index,list(seq)])\n",
    "    #show_matrix(x)\n",
    "    e = x.values.flatten()\n",
    "    return e\n",
    "\n",
    "def random_encode(p):\n",
    "    return [np.random.randint(20) for i in pep]\n",
    "\n",
    "e=blosum_encode(pep)"
   ]
  },
  {
   "cell_type": "markdown",
   "metadata": {},
   "source": [
    "## Create a regression model to fit encoded features\n",
    "\n",
    "We are going to create a regression model that can fit the encoded peptide featuers to known affinity data. This model is trained on the known data and then used to predict new peptides. The data used for training is primarily from the IEDB and was curated by the authors of MHCflurry from various sources. A sample of the data is shown below. The affinity measure is usually given as IC50 which is  This scale is harder for regression so we linearize the scale using the equation log50k = 1-log(ic50) / log(50000).\n"
   ]
  },
  {
   "cell_type": "code",
   "execution_count": 6,
   "metadata": {},
   "outputs": [
    {
     "data": {
      "text/html": [
       "<div>\n",
       "<style scoped>\n",
       "    .dataframe tbody tr th:only-of-type {\n",
       "        vertical-align: middle;\n",
       "    }\n",
       "\n",
       "    .dataframe tbody tr th {\n",
       "        vertical-align: top;\n",
       "    }\n",
       "\n",
       "    .dataframe thead th {\n",
       "        text-align: right;\n",
       "    }\n",
       "</style>\n",
       "<table border=\"1\" class=\"dataframe\">\n",
       "  <thead>\n",
       "    <tr style=\"text-align: right;\">\n",
       "      <th></th>\n",
       "      <th>allele</th>\n",
       "      <th>peptide</th>\n",
       "      <th>ic50</th>\n",
       "      <th>length</th>\n",
       "      <th>log50k</th>\n",
       "    </tr>\n",
       "  </thead>\n",
       "  <tbody>\n",
       "    <tr>\n",
       "      <th>15914</th>\n",
       "      <td>HLA-A*01:01</td>\n",
       "      <td>ADFKLFFRW</td>\n",
       "      <td>20000.000000</td>\n",
       "      <td>9</td>\n",
       "      <td>0.084687</td>\n",
       "    </tr>\n",
       "    <tr>\n",
       "      <th>15916</th>\n",
       "      <td>HLA-A*01:01</td>\n",
       "      <td>ADKNLIKCS</td>\n",
       "      <td>13201.155330</td>\n",
       "      <td>9</td>\n",
       "      <td>0.123082</td>\n",
       "    </tr>\n",
       "    <tr>\n",
       "      <th>15917</th>\n",
       "      <td>HLA-A*01:01</td>\n",
       "      <td>ADLRFASEF</td>\n",
       "      <td>20000.000000</td>\n",
       "      <td>9</td>\n",
       "      <td>0.084687</td>\n",
       "    </tr>\n",
       "    <tr>\n",
       "      <th>15919</th>\n",
       "      <td>HLA-A*01:01</td>\n",
       "      <td>ADTDSPLRY</td>\n",
       "      <td>32.000000</td>\n",
       "      <td>9</td>\n",
       "      <td>0.679685</td>\n",
       "    </tr>\n",
       "    <tr>\n",
       "      <th>15921</th>\n",
       "      <td>HLA-A*01:01</td>\n",
       "      <td>AEALLADGL</td>\n",
       "      <td>20000.000000</td>\n",
       "      <td>9</td>\n",
       "      <td>0.084687</td>\n",
       "    </tr>\n",
       "    <tr>\n",
       "      <th>15924</th>\n",
       "      <td>HLA-A*01:01</td>\n",
       "      <td>AEFKYIAAV</td>\n",
       "      <td>15659.171326</td>\n",
       "      <td>9</td>\n",
       "      <td>0.107300</td>\n",
       "    </tr>\n",
       "    <tr>\n",
       "      <th>15925</th>\n",
       "      <td>HLA-A*01:01</td>\n",
       "      <td>AEFPVGSTA</td>\n",
       "      <td>20000.000000</td>\n",
       "      <td>9</td>\n",
       "      <td>0.084687</td>\n",
       "    </tr>\n",
       "    <tr>\n",
       "      <th>15927</th>\n",
       "      <td>HLA-A*01:01</td>\n",
       "      <td>AEFWDVFLS</td>\n",
       "      <td>20000.000000</td>\n",
       "      <td>9</td>\n",
       "      <td>0.084687</td>\n",
       "    </tr>\n",
       "    <tr>\n",
       "      <th>15929</th>\n",
       "      <td>HLA-A*01:01</td>\n",
       "      <td>AEGTGITHL</td>\n",
       "      <td>20000.000000</td>\n",
       "      <td>9</td>\n",
       "      <td>0.084687</td>\n",
       "    </tr>\n",
       "    <tr>\n",
       "      <th>15931</th>\n",
       "      <td>HLA-A*01:01</td>\n",
       "      <td>AEHDPWWAV</td>\n",
       "      <td>20000.000000</td>\n",
       "      <td>9</td>\n",
       "      <td>0.084687</td>\n",
       "    </tr>\n",
       "  </tbody>\n",
       "</table>\n",
       "</div>"
      ],
      "text/plain": [
       "            allele    peptide          ic50  length    log50k\n",
       "15914  HLA-A*01:01  ADFKLFFRW  20000.000000       9  0.084687\n",
       "15916  HLA-A*01:01  ADKNLIKCS  13201.155330       9  0.123082\n",
       "15917  HLA-A*01:01  ADLRFASEF  20000.000000       9  0.084687\n",
       "15919  HLA-A*01:01  ADTDSPLRY     32.000000       9  0.679685\n",
       "15921  HLA-A*01:01  AEALLADGL  20000.000000       9  0.084687\n",
       "15924  HLA-A*01:01  AEFKYIAAV  15659.171326       9  0.107300\n",
       "15925  HLA-A*01:01  AEFPVGSTA  20000.000000       9  0.084687\n",
       "15927  HLA-A*01:01  AEFWDVFLS  20000.000000       9  0.084687\n",
       "15929  HLA-A*01:01  AEGTGITHL  20000.000000       9  0.084687\n",
       "15931  HLA-A*01:01  AEHDPWWAV  20000.000000       9  0.084687"
      ]
     },
     "metadata": {},
     "output_type": "display_data"
    }
   ],
   "source": [
    "df = ep.get_training_set(allele='HLA-A*01:01')\n",
    "df=df[df.length==9]\n",
    "cols = ['allele','peptide','ic50','length','log50k']\n",
    "display(df[10:20][cols])"
   ]
  },
  {
   "cell_type": "markdown",
   "metadata": {},
   "source": [
    "We wish to create a regression model to fit the peptide features against the true affinity values. The code below sets up a train/test scheme for a neural network regressor using scikit-learn. scikit-learn provides many possible models that can be created with relatively little knowledge of machine learning. I chose a neural network here because it seemed most appropriate after some experimentation. The parameters used were arrived at through a grid search which is not shown here as it is somewhat beyond the scope of this article. We then make scatter plots comparing the test to predicted values. The diagonal line is the ideal one to one value."
   ]
  },
  {
   "cell_type": "code",
   "execution_count": null,
   "metadata": {},
   "outputs": [],
   "source": [
    "from sklearn import metrics\n",
    "from sklearn.model_selection import train_test_split,cross_val_score,ShuffleSplit\n",
    "from sklearn.neural_network import MLPRegressor\n",
    "import epitopepredict as ep\n",
    "\n",
    "def auc_score(true,sc,cutoff=None):\n",
    "    \n",
    "    if cutoff!=None:\n",
    "        true = (true<=cutoff).astype(int)\n",
    "        sc = (sc<=cutoff).astype(int)        \n",
    "    fpr, tpr, thresholds = metrics.roc_curve(true, sc, pos_label=1)\n",
    "    r = metrics.auc(fpr, tpr)\n",
    "    #print (r)\n",
    "    return  r\n",
    "\n",
    "def test_predictor(allele, encoder, ax):\n",
    "    \n",
    "    reg = MLPRegressor(hidden_layer_sizes=(20), alpha=0.01, max_iter=500,\n",
    "                        activation='relu', solver='lbfgs', random_state=2)\n",
    "    df = ep.get_training_set(allele, length=9)\n",
    "    #print (len(df))\n",
    "    X = df.peptide.apply(lambda x: pd.Series(encoder(x)),1)\n",
    "    y = df.log50k\n",
    "    X_train, X_test, y_train, y_test = train_test_split(X, y, test_size=0.1)\n",
    "    reg.fit(X_train, y_train)\n",
    "    sc = reg.predict(X_test)\n",
    "    x=pd.DataFrame(np.column_stack([y_test,sc]),columns=['test','predicted'])\n",
    "    x.plot('test','predicted',kind='scatter',s=20,ax=ax)\n",
    "    ax.plot((0,1), (0,1), ls=\"--\", lw=2, c=\".2\")\n",
    "    ax.set_xlim((0,1));  ax.set_ylim((0,1))\n",
    "    ax.set_title(encoder.__name__)    \n",
    "    auc = ep.auc_score(y_test,sc,cutoff=.426)\n",
    "    ax.text(.1,.9,'auc=%s' %round(auc,2))\n",
    "    sns.despine()\n",
    "    \n",
    "sns.set_context('notebook')\n",
    "encs=[blosum_encode,nlf_encode,one_hot_encode,random_encode]\n",
    "allele='HLA-A*03:01'\n",
    "fig,axs=plt.subplots(2,2,figsize=(10,10))\n",
    "axs=axs.flat\n",
    "i=0\n",
    "for enc in encs:\n",
    "    test_predictor(allele,enc,ax=axs[i])\n",
    "    i+=1"
   ]
  },
  {
   "cell_type": "markdown",
   "metadata": {},
   "source": [
    "## Build a predictor\n",
    "\n",
    "It can be seen from the plots that blosum_encoding gives superior results (highest auc value) for this particular test/train set and allele. Repeating the process generally shows the same outcome. Now that we know how to encode the peptides and make a model we can do it for any allele. We can write a routine that build the predictor from any training set."
   ]
  },
  {
   "cell_type": "code",
   "execution_count": null,
   "metadata": {},
   "outputs": [],
   "source": [
    "def build_predictor(allele, encoder):\n",
    "    \n",
    "    data = ep.get_training_set(allele)\n",
    "    if len(data)<200:\n",
    "        return\n",
    "    from sklearn.neural_network import MLPRegressor\n",
    "    reg = MLPRegressor(hidden_layer_sizes=(20), alpha=0.01, max_iter=500, \n",
    "                        activation='relu', solver='lbfgs', random_state=2)    \n",
    "    X = data.peptide.apply(lambda x: pd.Series(encoder(x)),1)\n",
    "    y = data.log50k\n",
    "    print (allele, len(X))\n",
    "    reg.fit(X,y)       \n",
    "    return reg"
   ]
  },
  {
   "cell_type": "markdown",
   "metadata": {},
   "source": [
    "## Train and save models\n",
    "\n",
    "Now we can just use the code above for all alleles in which we have training data (>200 samples) and produce a model for each one. Each model is saved to disk for later use so we don't have to re-train every time we want to predict peptides for that allele. sklearn uses the joblib library to persist models, which is similar to the pickle module."
   ]
  },
  {
   "cell_type": "code",
   "execution_count": null,
   "metadata": {},
   "outputs": [],
   "source": [
    "def get_allele_names():\n",
    "    d = ep.get_training_set(length=9)\n",
    "    a = d.allele.value_counts()\n",
    "    a =a[a>200]\n",
    "    return list(a.index)\n",
    "\n",
    "al = get_allele_names()\n",
    "path = 'models'\n",
    "for a in al:\n",
    "    fname = os.path.join(path, a+'.joblib')\n",
    "    reg = build_predictor(a, blosum_encode)\n",
    "    if reg is not None:\n",
    "        joblib.dump(reg, fname, protocol=2)"
   ]
  },
  {
   "cell_type": "markdown",
   "metadata": {},
   "source": [
    "## Comparison to other prediction algorithms\n",
    "\n",
    "The two best MHC-class I prediction tools are currently netMHC/netMHCpan-4.0 and MHCFlurry. It is useful to compare our results to those. In order to do this I have implemented the algorithm we made (which uses the code above) as a predictor in the `epitopepredict` package. The object is created using `P = ep.get_predictor('basicmhc1')`. This standardizes the calls to prediction and the results returned so it can be directly compared to the other tools. The code below creates 3 predictor objects and evaluates their performance on some new data for each allele available. The score is then recoreded each time. Importantly, the peptides in the evaluation set are not present in the training set.\n",
    "\n",
    "Note that predictors all return an ic50 value but internally use the log50k value for fitting. The predictors are evaluated using the roc auc metric with a threshold of 500nM. The auc is a common metric for classiifcation and can be used for regression if a threshold is chosen. Though others measures may be used such as pearson correlation co-efficient."
   ]
  },
  {
   "cell_type": "code",
   "execution_count": null,
   "metadata": {},
   "outputs": [],
   "source": [
    "def evaluate_predictor(P, allele):\n",
    "\n",
    "    data = ep.get_evaluation_set(allele, length=9)\n",
    "    #print (len(data))\n",
    "    P.predict_peptides(list(data.peptide), alleles=allele, cpus=4)\n",
    "    x = P.get_scores(allele)\n",
    "    x = data.merge(x,on='peptide')\n",
    "    auc = auc_score(x.ic50,x.score,cutoff=500)\n",
    "    return auc, data\n",
    "\n",
    "preds = [ep.get_predictor('basicmhc1'),\n",
    "         ep.get_predictor('netmhcpan',scoring='affinity'),\n",
    "         ep.get_predictor('mhcflurry')]\n",
    "comp=[]\n",
    "evalset = ep.get_evaluation_set(length=9)\n",
    "test_alleles = evalset.allele.unique()\n",
    "\n",
    "for P in preds:    \n",
    "    m=[]\n",
    "    for a in test_alleles:        \n",
    "        try:\n",
    "            auc,df = evaluate_predictor(P, a)\n",
    "            m.append((a,auc,len(df)))            \n",
    "        except Exception as e:\n",
    "            print (a,e)\n",
    "            pass\n",
    "    m=pd.DataFrame(m,columns=['allele','score','size'])\n",
    "    m['name'] = P.name\n",
    "    comp.append(m)"
   ]
  },
  {
   "cell_type": "markdown",
   "metadata": {},
   "source": [
    "## Results\n",
    "\n",
    "Finally we use the resultant dataframe to plot the auc scores for each method per allele. "
   ]
  },
  {
   "cell_type": "code",
   "execution_count": null,
   "metadata": {},
   "outputs": [],
   "source": [
    "c=pd.concat(comp)\n",
    "x=pd.pivot_table(c,index=['allele','size'],columns='name',values='score')#.reset_index()\n",
    "def highlight_max(s):\n",
    "    is_max = s == s.max()\n",
    "    return ['background-color: yellow' if v else '' for v in is_max]\n",
    "#display(x.style.apply(highlight_max,1))\n",
    "#print(c)\n",
    "\n",
    "ax=sns.boxplot(data=c,y='score',x='name')#,hue='allele')\n",
    "g=sns.catplot(data=c,y='score',x='allele',hue='name',\n",
    "              kind='bar',aspect=3,height=5,legend=False)\n",
    "plt.legend(bbox_to_anchor=(1.1, 1.05))\n",
    "plt.setp(g.ax.get_xticklabels(), rotation=90);\n",
    "plt.tight_layout()\n",
    "plt.savefig('benchmarks.png')\n",
    "x.to_csv('benchmarks.csv')"
   ]
  },
  {
   "cell_type": "markdown",
   "metadata": {},
   "source": [
    "You can see clearly that our method is quite inferior to the other two for many of the alleles! Our model is limited in several ways:\n",
    "\n",
    "* it only works with 9-mers\n",
    "* some alleles have preference for different peptide lengths and this is not accounted for\n",
    "* limited training data for some alleles, the other tools use methods to overcome this\n",
    "* the neural network is not likely not sophisticated enough\n",
    "\n",
    "Why the blosum62 encoding is better than the other tested is not entirely clear. However it should be better than one hot encoding since there is information loss when simply using 0 and 1 in a sparse matrix. As mentioned the predictor is available from within the epitopepredict package. It is used as a basic simple model only. To create the basic MHC predictor in epitopepredict we would use the code below. In the future this approach will be used as a basis for improving the predictor. Improvements would include handling different length peptides and changing the regression model."
   ]
  },
  {
   "cell_type": "markdown",
   "metadata": {},
   "source": [
    "## Using epitopepredict"
   ]
  },
  {
   "cell_type": "code",
   "execution_count": 19,
   "metadata": {},
   "outputs": [],
   "source": [
    "P = ep.get_predictor('basicmhc1')\n",
    "from epitopepredict import peptutils\n",
    "seqs = peptutils.create_random_sequences(10)\n",
    "df = pd.DataFrame(seqs,columns=['peptide'])\n",
    "res = P.predict_peptides(df.peptide, alleles=ep.get_preset_alleles('mhc1_supertypes'), cpus=1)"
   ]
  },
  {
   "cell_type": "markdown",
   "metadata": {},
   "source": [
    "## References\n",
    "\n",
    "* L. Nanni and A. Lumini, “A new encoding technique for peptide classification,” Expert Syst. Appl., vol. 38, no. 4, pp. 3185–3191, 2011.\n",
    "* V. Jurtz, S. Paul, M. Andreatta, P. Marcatili, B. Peters, and M. Nielsen, “NetMHCpan-4.0: Improved Peptide–MHC Class I Interaction Predictions Integrating Eluted Ligand and Peptide Binding Affinity Data,” J. Immunol., vol. 199, no. 9, 2017.\n",
    "* T. J. O’Donnell, A. Rubinsteyn, M. Bonsack, A. B. Riemer, U. Laserson, and J. Hammerbacher, “MHCflurry: Open-Source Class I MHC Binding Affinity Prediction,” Cell Syst., vol. 7, no. 1, p. 129–132.e4, 2018.\n",
    "* J. Hu and Z. Liu, “DeepMHC : Deep Convolutional Neural Networks for High-performance peptide-MHC Binding Affinity Prediction,” bioRxiv, pp. 1–20, 2017.\n",
    "* https://www.iedb.org/"
   ]
  }
 ],
 "metadata": {
  "kernelspec": {
   "display_name": "Python 3",
   "language": "python",
   "name": "python3"
  },
  "language_info": {
   "codemirror_mode": {
    "name": "ipython",
    "version": 3
   },
   "file_extension": ".py",
   "mimetype": "text/x-python",
   "name": "python",
   "nbconvert_exporter": "python",
   "pygments_lexer": "ipython3",
   "version": "3.7.5"
  }
 },
 "nbformat": 4,
 "nbformat_minor": 4
}
